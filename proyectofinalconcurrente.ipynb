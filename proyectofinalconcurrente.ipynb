{
  "nbformat": 4,
  "nbformat_minor": 0,
  "metadata": {
    "colab": {
      "provenance": [],
      "gpuType": "T4",
      "toc_visible": true,
      "authorship_tag": "ABX9TyNupYWKQhRDTOkhffuDLFAz",
      "include_colab_link": true
    },
    "kernelspec": {
      "name": "python3",
      "display_name": "Python 3"
    },
    "language_info": {
      "name": "python"
    },
    "accelerator": "GPU"
  },
  "cells": [
    {
      "cell_type": "markdown",
      "metadata": {
        "id": "view-in-github",
        "colab_type": "text"
      },
      "source": [
        "<a href=\"https://colab.research.google.com/github/juan123213/Proyecto_final_concurrentes/blob/main/proyectofinalconcurrente.ipynb\" target=\"_parent\"><img src=\"https://colab.research.google.com/assets/colab-badge.svg\" alt=\"Open In Colab\"/></a>"
      ]
    },
    {
      "cell_type": "markdown",
      "source": [
        "PROYECTO FINAL PROG CONCURRENTE\n"
      ],
      "metadata": {
        "id": "PKUGS6C-a0DG"
      }
    },
    {
      "cell_type": "markdown",
      "source": [
        "1.Cargar automáticamente en memoria 10,000 imágenes aleatorias tomadas del buscador de google de un tema específico, para este caso se debe implementar 10 hilos para que cada uno descargue 1,000 imágenes de forma concurrente."
      ],
      "metadata": {
        "id": "9hTw7m26a7_l"
      }
    },
    {
      "cell_type": "markdown",
      "source": [
        "REQUIREMENTS\n"
      ],
      "metadata": {
        "id": "0EIbigw_g9UQ"
      }
    },
    {
      "cell_type": "code",
      "source": [
        "!pip install streamlit -q\n",
        "!pip install bing-image-downloader\n",
        "!pip install opencv-python\n",
        "!pip install mpi4py\n"
      ],
      "metadata": {
        "colab": {
          "base_uri": "https://localhost:8080/"
        },
        "id": "xs4v5-JRVfuS",
        "outputId": "3cb5666e-472a-4643-cb37-1fc44d1b1fb6"
      },
      "execution_count": null,
      "outputs": [
        {
          "output_type": "stream",
          "name": "stdout",
          "text": [
            "Requirement already satisfied: streamlit in /usr/local/lib/python3.10/dist-packages (1.29.0)\n",
            "Requirement already satisfied: altair<6,>=4.0 in /usr/local/lib/python3.10/dist-packages (from streamlit) (4.2.2)\n",
            "Requirement already satisfied: blinker<2,>=1.0.0 in /usr/lib/python3/dist-packages (from streamlit) (1.4)\n",
            "Requirement already satisfied: cachetools<6,>=4.0 in /usr/local/lib/python3.10/dist-packages (from streamlit) (5.3.2)\n",
            "Requirement already satisfied: click<9,>=7.0 in /usr/local/lib/python3.10/dist-packages (from streamlit) (8.1.7)\n",
            "Requirement already satisfied: importlib-metadata<7,>=1.4 in /usr/local/lib/python3.10/dist-packages (from streamlit) (6.8.0)\n",
            "Requirement already satisfied: numpy<2,>=1.19.3 in /usr/local/lib/python3.10/dist-packages (from streamlit) (1.23.5)\n",
            "Requirement already satisfied: packaging<24,>=16.8 in /usr/local/lib/python3.10/dist-packages (from streamlit) (23.2)\n",
            "Requirement already satisfied: pandas<3,>=1.3.0 in /usr/local/lib/python3.10/dist-packages (from streamlit) (1.5.3)\n",
            "Requirement already satisfied: pillow<11,>=7.1.0 in /usr/local/lib/python3.10/dist-packages (from streamlit) (9.4.0)\n",
            "Requirement already satisfied: protobuf<5,>=3.20 in /usr/local/lib/python3.10/dist-packages (from streamlit) (3.20.3)\n",
            "Requirement already satisfied: pyarrow>=6.0 in /usr/local/lib/python3.10/dist-packages (from streamlit) (9.0.0)\n",
            "Requirement already satisfied: python-dateutil<3,>=2.7.3 in /usr/local/lib/python3.10/dist-packages (from streamlit) (2.8.2)\n",
            "Requirement already satisfied: requests<3,>=2.27 in /usr/local/lib/python3.10/dist-packages (from streamlit) (2.31.0)\n",
            "Requirement already satisfied: rich<14,>=10.14.0 in /usr/local/lib/python3.10/dist-packages (from streamlit) (13.7.0)\n",
            "Requirement already satisfied: tenacity<9,>=8.1.0 in /usr/local/lib/python3.10/dist-packages (from streamlit) (8.2.3)\n",
            "Requirement already satisfied: toml<2,>=0.10.1 in /usr/local/lib/python3.10/dist-packages (from streamlit) (0.10.2)\n",
            "Requirement already satisfied: typing-extensions<5,>=4.3.0 in /usr/local/lib/python3.10/dist-packages (from streamlit) (4.5.0)\n",
            "Requirement already satisfied: tzlocal<6,>=1.1 in /usr/local/lib/python3.10/dist-packages (from streamlit) (5.2)\n",
            "Requirement already satisfied: validators<1,>=0.2 in /usr/local/lib/python3.10/dist-packages (from streamlit) (0.22.0)\n",
            "Requirement already satisfied: gitpython!=3.1.19,<4,>=3.0.7 in /usr/local/lib/python3.10/dist-packages (from streamlit) (3.1.40)\n",
            "Requirement already satisfied: pydeck<1,>=0.8.0b4 in /usr/local/lib/python3.10/dist-packages (from streamlit) (0.8.1b0)\n",
            "Requirement already satisfied: tornado<7,>=6.0.3 in /usr/local/lib/python3.10/dist-packages (from streamlit) (6.3.2)\n",
            "Requirement already satisfied: watchdog>=2.1.5 in /usr/local/lib/python3.10/dist-packages (from streamlit) (3.0.0)\n",
            "Requirement already satisfied: entrypoints in /usr/local/lib/python3.10/dist-packages (from altair<6,>=4.0->streamlit) (0.4)\n",
            "Requirement already satisfied: jinja2 in /usr/local/lib/python3.10/dist-packages (from altair<6,>=4.0->streamlit) (3.1.2)\n",
            "Requirement already satisfied: jsonschema>=3.0 in /usr/local/lib/python3.10/dist-packages (from altair<6,>=4.0->streamlit) (4.19.2)\n",
            "Requirement already satisfied: toolz in /usr/local/lib/python3.10/dist-packages (from altair<6,>=4.0->streamlit) (0.12.0)\n",
            "Requirement already satisfied: gitdb<5,>=4.0.1 in /usr/local/lib/python3.10/dist-packages (from gitpython!=3.1.19,<4,>=3.0.7->streamlit) (4.0.11)\n",
            "Requirement already satisfied: zipp>=0.5 in /usr/local/lib/python3.10/dist-packages (from importlib-metadata<7,>=1.4->streamlit) (3.17.0)\n",
            "Requirement already satisfied: pytz>=2020.1 in /usr/local/lib/python3.10/dist-packages (from pandas<3,>=1.3.0->streamlit) (2023.3.post1)\n",
            "Requirement already satisfied: six>=1.5 in /usr/local/lib/python3.10/dist-packages (from python-dateutil<3,>=2.7.3->streamlit) (1.16.0)\n",
            "Requirement already satisfied: charset-normalizer<4,>=2 in /usr/local/lib/python3.10/dist-packages (from requests<3,>=2.27->streamlit) (3.3.2)\n",
            "Requirement already satisfied: idna<4,>=2.5 in /usr/local/lib/python3.10/dist-packages (from requests<3,>=2.27->streamlit) (3.6)\n",
            "Requirement already satisfied: urllib3<3,>=1.21.1 in /usr/local/lib/python3.10/dist-packages (from requests<3,>=2.27->streamlit) (2.0.7)\n",
            "Requirement already satisfied: certifi>=2017.4.17 in /usr/local/lib/python3.10/dist-packages (from requests<3,>=2.27->streamlit) (2023.11.17)\n",
            "Requirement already satisfied: markdown-it-py>=2.2.0 in /usr/local/lib/python3.10/dist-packages (from rich<14,>=10.14.0->streamlit) (3.0.0)\n",
            "Requirement already satisfied: pygments<3.0.0,>=2.13.0 in /usr/local/lib/python3.10/dist-packages (from rich<14,>=10.14.0->streamlit) (2.16.1)\n",
            "Requirement already satisfied: smmap<6,>=3.0.1 in /usr/local/lib/python3.10/dist-packages (from gitdb<5,>=4.0.1->gitpython!=3.1.19,<4,>=3.0.7->streamlit) (5.0.1)\n",
            "Requirement already satisfied: MarkupSafe>=2.0 in /usr/local/lib/python3.10/dist-packages (from jinja2->altair<6,>=4.0->streamlit) (2.1.3)\n",
            "Requirement already satisfied: attrs>=22.2.0 in /usr/local/lib/python3.10/dist-packages (from jsonschema>=3.0->altair<6,>=4.0->streamlit) (23.1.0)\n",
            "Requirement already satisfied: jsonschema-specifications>=2023.03.6 in /usr/local/lib/python3.10/dist-packages (from jsonschema>=3.0->altair<6,>=4.0->streamlit) (2023.11.2)\n",
            "Requirement already satisfied: referencing>=0.28.4 in /usr/local/lib/python3.10/dist-packages (from jsonschema>=3.0->altair<6,>=4.0->streamlit) (0.31.1)\n",
            "Requirement already satisfied: rpds-py>=0.7.1 in /usr/local/lib/python3.10/dist-packages (from jsonschema>=3.0->altair<6,>=4.0->streamlit) (0.13.2)\n",
            "Requirement already satisfied: mdurl~=0.1 in /usr/local/lib/python3.10/dist-packages (from markdown-it-py>=2.2.0->rich<14,>=10.14.0->streamlit) (0.1.2)\n",
            "Requirement already satisfied: bing-image-downloader in /usr/local/lib/python3.10/dist-packages (1.1.2)\n",
            "Requirement already satisfied: opencv-python in /usr/local/lib/python3.10/dist-packages (4.8.0.76)\n",
            "Requirement already satisfied: numpy>=1.21.2 in /usr/local/lib/python3.10/dist-packages (from opencv-python) (1.23.5)\n",
            "Collecting mpi4py\n",
            "  Downloading mpi4py-3.1.5.tar.gz (2.5 MB)\n",
            "\u001b[2K     \u001b[90m━━━━━━━━━━━━━━━━━━━━━━━━━━━━━━━━━━━━━━━━\u001b[0m \u001b[32m2.5/2.5 MB\u001b[0m \u001b[31m26.7 MB/s\u001b[0m eta \u001b[36m0:00:00\u001b[0m\n",
            "\u001b[?25h  Installing build dependencies ... \u001b[?25l\u001b[?25hdone\n",
            "  Getting requirements to build wheel ... \u001b[?25l\u001b[?25hdone\n",
            "  Preparing metadata (pyproject.toml) ... \u001b[?25l\u001b[?25hdone\n",
            "Building wheels for collected packages: mpi4py\n",
            "  Building wheel for mpi4py (pyproject.toml) ... \u001b[?25l\u001b[?25hdone\n",
            "  Created wheel for mpi4py: filename=mpi4py-3.1.5-cp310-cp310-linux_x86_64.whl size=2746525 sha256=f30953767d83c61e20cd4256d63c81f2992ebf0d1364efca489ae65c4b68b761\n",
            "  Stored in directory: /root/.cache/pip/wheels/18/2b/7f/c852523089e9182b45fca50ff56f49a51eeb6284fd25a66713\n",
            "Successfully built mpi4py\n",
            "Installing collected packages: mpi4py\n",
            "Successfully installed mpi4py-3.1.5\n"
          ]
        }
      ]
    },
    {
      "cell_type": "markdown",
      "source": [
        "Imports"
      ],
      "metadata": {
        "id": "XQMems2thr5R"
      }
    },
    {
      "cell_type": "code",
      "source": [
        "import threading        # Manejo de hilos\n",
        "import subprocess\n",
        "from bing_image_downloader import downloader\n",
        "import cv2\n",
        "import numpy as np\n"
      ],
      "metadata": {
        "id": "VS5sRJKQhtfw"
      },
      "execution_count": null,
      "outputs": []
    },
    {
      "cell_type": "markdown",
      "source": [
        "Si hay carpeta downloads eliminarla sino crearla"
      ],
      "metadata": {
        "id": "yG5pj0edhwp4"
      }
    },
    {
      "cell_type": "code",
      "source": [
        "!rm -rf $downloads #se vacea la carpeta de imagenes download\n",
        "!mkdir $downloads  #nos hacemos en la carpeta downloads"
      ],
      "metadata": {
        "id": "mcVAd8hmcAuo"
      },
      "execution_count": null,
      "outputs": []
    },
    {
      "cell_type": "markdown",
      "source": [
        "Funciones"
      ],
      "metadata": {
        "id": "OPIf24OKiFrU"
      }
    },
    {
      "cell_type": "code",
      "source": [
        "def image_to_grayscale_matrix(image_path):\n",
        "    # Leer la imagen\n",
        "    original_image = cv2.imread(image_path)\n",
        "\n",
        "    # Verificar si la lectura de la imagen fue exitosa\n",
        "    if original_image is None:\n",
        "        print(f\"No se pudo leer la imagen en {image_path}\")\n",
        "        return None\n",
        "\n",
        "    # Convertir la imagen a escala de grises\n",
        "    grayscale_image = cv2.cvtColor(original_image, cv2.COLOR_BGR2GRAY)\n",
        "\n",
        "    # Obtener la matriz de la imagen en escala de grises\n",
        "    grayscale_matrix = np.array(grayscale_image)\n",
        "\n",
        "    return grayscale_matrix\n",
        "\n",
        "def convolucionsecuencial(imagen, kernel):\n",
        "    altura, ancho = imagen.shape\n",
        "    k_altura, k_ancho = kernel.shape\n",
        "    resultado = np.zeros((altura - k_altura + 1, ancho - k_ancho + 1))\n",
        "\n",
        "    for i in range(altura - k_altura + 1):\n",
        "        for j in range(ancho - k_ancho + 1):\n",
        "            submatriz = imagen[i:i+k_altura, j:j+k_ancho]\n",
        "            resultado[i, j] = np.sum(submatriz * kernel)\n",
        "\n",
        "    return resultado\n",
        "\n",
        "\n",
        "\n",
        "def download_images(x):\n",
        "    downloader.download(x, limit=100,  output_dir='downloads', adult_filter_off=True, force_replace=False, timeout=60, verbose=True)\n",
        "\n",
        "\n",
        "def descarga():\n",
        "    #Dirección de carpeta para cargar imagenes\n",
        "    downloads = \"downloads\"\n",
        "\n",
        "    # Ejecutar los hilos\n",
        "    hilo1.start()\n",
        "    hilo2.start()\n",
        "    hilo3.start()\n",
        "    hilo4.start()\n",
        "    hilo5.start()\n",
        "    hilo6.start()\n",
        "    hilo7.start()\n",
        "    hilo8.start()\n",
        "    hilo9.start()\n",
        "    hilo10.start()\n",
        "\n",
        "    # Esperar a que terminen los hilos ejecutados\n",
        "    hilo1.join()\n",
        "    hilo2.join()\n",
        "    hilo3.join()\n",
        "    hilo4.join()\n",
        "    hilo5.join()\n",
        "    hilo6.join()\n",
        "    hilo7.join()\n",
        "    hilo8.join()\n",
        "    hilo9.join()\n",
        "    hilo10.join()"
      ],
      "metadata": {
        "id": "GDXfqo3PiG40"
      },
      "execution_count": null,
      "outputs": []
    },
    {
      "cell_type": "markdown",
      "source": [
        "Inicialización Hilos de descarga de imágenes"
      ],
      "metadata": {
        "id": "ul7ATRheiTWz"
      }
    },
    {
      "cell_type": "code",
      "source": [
        "\n",
        "# Crear los hilos\n",
        "hilo1 = threading.Thread(target=download_images, name='Hilo 1', args=(\"mazda car\",))\n",
        "hilo2 = threading.Thread(target=download_images, name='Hilo 2', args=(\"audi car\",))\n",
        "hilo3 = threading.Thread(target=download_images, name='Hilo 3', args=(\"ferrari car\",))\n",
        "hilo4 = threading.Thread(target=download_images, name='Hilo 4', args=(\"renault car\",))\n",
        "hilo5 = threading.Thread(target=download_images, name='Hilo 5', args=(\"gallardo car\",))\n",
        "hilo6 = threading.Thread(target=download_images, name='Hilo 6', args=(\"aventador car\",))\n",
        "hilo7 = threading.Thread(target=download_images, name='Hilo 7', args=(\"vyper car\",))\n",
        "hilo8 = threading.Thread(target=download_images, name='Hilo 8', args=(\"camaro car\",))\n",
        "hilo9 = threading.Thread(target=download_images, name='Hilo 9', args=(\"veneno car\",))\n",
        "hilo10 = threading.Thread(target=download_images, name='Hilo 10', args=(\"mclaren car\",))"
      ],
      "metadata": {
        "id": "B1WWcba3iW6q"
      },
      "execution_count": null,
      "outputs": []
    },
    {
      "cell_type": "markdown",
      "source": [
        "Tratado de imagen"
      ],
      "metadata": {
        "id": "lfWfzr64ijt-"
      }
    },
    {
      "cell_type": "code",
      "source": [
        "# Ruta de la imagen\n",
        "image_path = \"downloads/ferrari car/Image_39.jpg\"\n",
        "\n",
        "# Obtener la matriz de la imagen en escala de grises\n",
        "grayscale_matrix = image_to_grayscale_matrix(image_path)"
      ],
      "metadata": {
        "id": "p17LpSJcik1J"
      },
      "execution_count": null,
      "outputs": []
    },
    {
      "cell_type": "markdown",
      "source": [
        "Kernels"
      ],
      "metadata": {
        "id": "NLlHxZJDiuCD"
      }
    },
    {
      "cell_type": "code",
      "source": [
        "#Kernels\n",
        "\n",
        "kernel_class_1 = np.array([\n",
        "    [0, 0, 0, 0, 0],\n",
        "    [0, 0, 1, 0, 0],\n",
        "    [0, 0, -1, 0, 0],\n",
        "    [0, 0, 0, 0, 0],\n",
        "    [0, 0, 0, 0, 0]\n",
        "])\n",
        "kernel_class_2 = np.array([\n",
        "    [0, 0, 0, 0, 0],\n",
        "    [0, 0, 1, 0, 0],\n",
        "    [0, 0, -1, 0, 0],\n",
        "    [0, 0, 0, 0, 0],\n",
        "    [0, 0, 0, 0, 0]\n",
        "])\n",
        "kernel_class_3 = np.array([\n",
        "    [0, 0, -1, 0, 0],\n",
        "    [0, 0, 3, 0, 0],\n",
        "    [0, 0, -3, 0, 0],\n",
        "    [0, 0, 1, 0, 0],\n",
        "    [0, 0, 0, 0, 0]\n",
        "])\n",
        "kernel3x3 = np.array([\n",
        "    [0, 0, 0, 0, 0],\n",
        "    [0, -1, 2, -1, 0],\n",
        "    [0, 2, -4, 2, 0],\n",
        "    [0, -1, 2, -1, 0],\n",
        "    [0, 0, 0, 0, 0]\n",
        "])\n",
        "edge3x3 = np.array([\n",
        "    [0, 0, 0, 0, 0],\n",
        "    [0, -1, 2, -1, 0],\n",
        "    [0, 2, -4, 2, 0],\n",
        "    [0, 0, 0, 0, 0],\n",
        "    [0, 0, 0, 0, 0]\n",
        "])\n",
        "square5x5 = np.array([\n",
        "    [-1,2, -2, 2, -1],\n",
        "    [2,-6, 8, -6,  2],\n",
        "    [-2, 8,-12, 8,-2],\n",
        "    [2, -6, 8, -6, 2],\n",
        "    [-1, 2, -2, 2, -1]\n",
        "])\n",
        "edge5x5 = np.array([\n",
        "    [-1,2, -2, 2, -1],\n",
        "    [2,-6, 8, -6,  2],\n",
        "    [-2, 8,-12, 8,-2],\n",
        "    [0, 0, 0, 0, 0],\n",
        "    [0, 0, 0, 0, -0]\n",
        "])\n",
        "\n",
        "kernelsobelv = np.array([\n",
        "    [-1, 0, 1],\n",
        "    [-2, 0, 2],\n",
        "    [-1, 0, 1]\n",
        "])\n",
        "kernelsobelh = np.array([\n",
        "    [-1, 2, -1],\n",
        "    [0, 0, 0],\n",
        "    [1, 2, 1]\n",
        "])\n",
        "kernel_laplace= np.array([\n",
        "    [-1, -1, -1],\n",
        "    [-1, 8, -1],\n",
        "    [-1, -1, -1]\n",
        "])\n",
        "kernelprewittv = np.array([\n",
        "    [-1, 0, 1],\n",
        "    [-1, 0, 1],\n",
        "    [-1, 0, 1]\n",
        "])\n",
        "kernelprewitth = np.array([\n",
        "    [-1, -1,-1],\n",
        "    [0, 0, 0],\n",
        "    [1, 1, 1]\n",
        "])"
      ],
      "metadata": {
        "id": "DAWQrrdDiux2"
      },
      "execution_count": null,
      "outputs": []
    },
    {
      "cell_type": "markdown",
      "source": [
        "Streamlit"
      ],
      "metadata": {
        "id": "dk-2fAR1kfhK"
      }
    },
    {
      "cell_type": "code",
      "source": [
        "codigo_streamlit = \"\"\"\n",
        "import streamlit as st\n",
        "\n",
        "st.title(\"Proyecto Final - Programación Concurrente y Distribuida\")\n",
        "\n",
        "tema_descargas = st.text_input(\"Y hoy ¿Acerca de qué quieres descargar imágenes?\")\n",
        "\n",
        "if st.button(\"Descargar imágenes con la configuración seleccionada\"):\n",
        "    if tema_descargas == \"\":\n",
        "        st.error(\"No has seleccionado un tema de descargas\")\n",
        "        #print(\"hilos \",hilos)\n",
        "        #print(\"framework \",framework)\n",
        "        #print(\"tema_descargas\",tema_descargas)\n",
        "        #print(\"kernel\",kernel)\n",
        "\n",
        "    else:\n",
        "\n",
        "        st.success(\"Descargando imágenes de {}\".format(tema_descargas))\n",
        "\n",
        "\n",
        "\n",
        "st.button(\"mostrar 10 imágenes random de las descargadas\")\n",
        "\n",
        "framework= st.radio(\"¿Qué tipo de framework o librería quieres usar?\", (\"C\", \"OpenMP\", \"MPI4py\", \"PyCUDA\", \"multiprocessing\"))\n",
        "\n",
        "\n",
        "kernel =st.radio(\"Qué tipo de filtro quieres usar?\", (\"El primero de los Class 1\", \"El primero de los Class 2\",\n",
        "                                                \"El primero de los Class 3\", \"Square 3x3\",\n",
        "                                                \"El primero de los Edge 3x3\", \"Square 5x5\",\n",
        "                                                \"El primero de los Edge 5x5\", \" sobel vertical y horizontalmente\",\n",
        "                                                \"Laplace\", \"prewitt vertical y horizontalmente\"))\n",
        "\n",
        "\n",
        "hilos= st.radio (\"¿cantidad de hilos quieres usar?\", (\"1\", \"2\", \"4\", \"6\", \"8\"))\n",
        "\n",
        "st.button(\"Aplicar filtro a las imágenes\")\n",
        "\n",
        "\n",
        "\n",
        "\n",
        "\"\"\""
      ],
      "metadata": {
        "id": "zd8qjdL5kgrQ"
      },
      "execution_count": null,
      "outputs": []
    },
    {
      "cell_type": "code",
      "source": [
        "# Nombre del archivo que quieres crear\n",
        "nombre_archivo = \"streamlit.py\"\n",
        "\n",
        "# Escribir el código en el archivo\n",
        "with open(nombre_archivo, \"w\") as archivo:\n",
        "    archivo.write(codigo_streamlit)"
      ],
      "metadata": {
        "id": "k99njkkglEX4"
      },
      "execution_count": null,
      "outputs": []
    },
    {
      "cell_type": "code",
      "source": [
        "!wget -q -O - ipv4.icanhazip.com\n"
      ],
      "metadata": {
        "colab": {
          "base_uri": "https://localhost:8080/"
        },
        "id": "DqPXZgRHr9LZ",
        "outputId": "329b246d-14c4-47a7-ef43-63f8bd3edf15"
      },
      "execution_count": null,
      "outputs": [
        {
          "output_type": "stream",
          "name": "stdout",
          "text": [
            "35.245.222.144\n"
          ]
        }
      ]
    },
    {
      "cell_type": "code",
      "source": [
        "! streamlit run streamlit.py & npx localtunnel --port 8501"
      ],
      "metadata": {
        "colab": {
          "base_uri": "https://localhost:8080/"
        },
        "id": "c4kIa3H7sOKm",
        "outputId": "885f146b-8dee-4945-ad45-77bc658ff8eb"
      },
      "execution_count": null,
      "outputs": [
        {
          "output_type": "stream",
          "name": "stdout",
          "text": [
            "[..................] \\ fetchMetadata: sill resolveWithNewModule localtunnel@2.0\u001b[0m\u001b[K\n",
            "Collecting usage statistics. To deactivate, set browser.gatherUsageStats to False.\n",
            "\u001b[0m\n",
            "\u001b[0m\n",
            "\u001b[34m\u001b[1m  You can now view your Streamlit app in your browser.\u001b[0m\n",
            "\u001b[0m\n",
            "\u001b[34m  Network URL: \u001b[0m\u001b[1mhttp://172.28.0.12:8501\u001b[0m\n",
            "\u001b[34m  External URL: \u001b[0m\u001b[1mhttp://35.245.222.144:8501\u001b[0m\n",
            "\u001b[0m\n",
            "\u001b[K\u001b[?25hnpx: installed 22 in 3.341s\n",
            "your url is: https://nasty-areas-add.loca.lt\n",
            "\n",
            "C\n",
            "El primero de los Class 1\n",
            "1\n",
            "\u001b[34m  Stopping...\u001b[0m\n",
            "^C\n"
          ]
        }
      ]
    },
    {
      "cell_type": "markdown",
      "source": [
        "### C"
      ],
      "metadata": {
        "id": "79cJv9xSzNDw"
      }
    },
    {
      "cell_type": "code",
      "source": [
        "%%writefile convolucion.c\n",
        "\n",
        "\n",
        "#include <stdio.h>\n",
        "#include <stdlib.h>\n",
        "#include <pthread.h>\n",
        "\n",
        "#define MAX_HEIGHT 1000\n",
        "#define MAX_WIDTH 1000\n",
        "#define MAX_KERNEL_HEIGHT 10\n",
        "#define MAX_KERNEL_WIDTH 10\n",
        "\n",
        "// Estructura para pasar argumentos a la función del hilo\n",
        "typedef struct {\n",
        "    float *image;\n",
        "    float *kernel;\n",
        "    float *result;\n",
        "    int height;\n",
        "    int width;\n",
        "    int kernel_height;\n",
        "    int kernel_width;\n",
        "    int start_row;\n",
        "    int end_row;\n",
        "} ThreadArgs;\n",
        "\n",
        "// Función de convolución\n",
        "void *convolutionThread(void *args) {\n",
        "    ThreadArgs *tArgs = (ThreadArgs *)args;\n",
        "\n",
        "    for (int i = tArgs->start_row; i < tArgs->end_row; ++i) {\n",
        "        for (int j = 0; j < tArgs->width - tArgs->kernel_width + 1; ++j) {\n",
        "            float sum = 0.0;\n",
        "            for (int k = 0; k < tArgs->kernel_height; ++k) {\n",
        "                for (int l = 0; l < tArgs->kernel_width; ++l) {\n",
        "                    sum += tArgs->image[(i + k) * tArgs->width + (j + l)] * tArgs->kernel[k * tArgs->kernel_width + l];\n",
        "                }\n",
        "            }\n",
        "            tArgs->result[i * (tArgs->width - tArgs->kernel_width + 1) + j] = sum;\n",
        "        }\n",
        "    }\n",
        "\n",
        "    pthread_exit(NULL);\n",
        "}\n",
        "\n",
        "// Función principal de convolución paralela\n",
        "void parallelConvolution(float *image, float *kernel, float *result, int height, int width, int kernel_height, int kernel_width, int num_threads) {\n",
        "    pthread_t threads[num_threads];\n",
        "    ThreadArgs thread_args[num_threads];\n",
        "\n",
        "    // Dividir las filas entre los hilos\n",
        "    int rows_per_thread = height / num_threads;\n",
        "\n",
        "    // Crear hilos\n",
        "    for (int i = 0; i < num_threads; ++i) {\n",
        "        thread_args[i].image = image;\n",
        "        thread_args[i].kernel = kernel;\n",
        "        thread_args[i].result = result;\n",
        "        thread_args[i].height = height;\n",
        "        thread_args[i].width = width;\n",
        "        thread_args[i].kernel_height = kernel_height;\n",
        "        thread_args[i].kernel_width = kernel_width;\n",
        "        thread_args[i].start_row = i * rows_per_thread;\n",
        "        thread_args[i].end_row = (i == num_threads - 1) ? height : (i + 1) * rows_per_thread;\n",
        "\n",
        "        pthread_create(&threads[i], NULL, convolutionThread, (void *)&thread_args[i]);\n",
        "    }\n",
        "\n",
        "    // Esperar a que los hilos terminen\n",
        "    for (int i = 0; i < num_threads; ++i) {\n",
        "        pthread_join(threads[i], NULL);\n",
        "    }\n",
        "}\n",
        "\n",
        "int main() {\n",
        "    float image[MAX_HEIGHT][MAX_WIDTH];\n",
        "    float kernel[MAX_KERNEL_HEIGHT][MAX_KERNEL_WIDTH];\n",
        "    float result[MAX_HEIGHT - MAX_KERNEL_HEIGHT + 1][MAX_WIDTH - MAX_KERNEL_WIDTH + 1];\n",
        "\n",
        "    // Inicializar image y kernel según tus necesidades\n",
        "\n",
        "    // Llamar a la convolución paralela con 4 hilos\n",
        "    parallelConvolution(&image[0][0], &kernel[0][0], &result[0][0], MAX_HEIGHT, MAX_WIDTH, MAX_KERNEL_HEIGHT, MAX_KERNEL_WIDTH, 4);\n",
        "\n",
        "    // El resultado estará en la matriz 'result'\n",
        "\n",
        "    return 0;\n",
        "}\n"
      ],
      "metadata": {
        "id": "HgXFFtWUwWXk"
      },
      "execution_count": null,
      "outputs": []
    },
    {
      "cell_type": "markdown",
      "source": [
        "## MPI4PY"
      ],
      "metadata": {
        "id": "F65en0qE1j29"
      }
    },
    {
      "cell_type": "code",
      "source": [
        "codigo_mpi4py= \"\"\"\n",
        "\n",
        "import numpy as np\n",
        "from mpi4py import MPI\n",
        "\n",
        "def parallel_convolution(image, kernel):\n",
        "    comm = MPI.COMM_WORLD\n",
        "    rank = comm.Get_rank()\n",
        "    size = comm.Get_size()\n",
        "\n",
        "    altura, ancho = image.shape\n",
        "    k_altura, k_ancho = kernel.shape\n",
        "\n",
        "    # Dividir filas entre procesos\n",
        "    rows_per_process = altura // size\n",
        "    start_row = rank * rows_per_process\n",
        "    end_row = (rank + 1) * rows_per_process\n",
        "\n",
        "    # Inicializar el resultado en cada proceso\n",
        "    local_result = np.zeros((rows_per_process, ancho - k_ancho + 1))\n",
        "\n",
        "    # Realizar la convolución de forma local en cada proceso\n",
        "    for i in range(start_row, end_row):\n",
        "        for j in range(ancho - k_ancho + 1):\n",
        "            submatrix = image[i:i+k_altura, j:j+k_ancho]\n",
        "            local_result[i - start_row, j] = np.sum(submatrix * kernel)\n",
        "\n",
        "    # Recopilar resultados de todos los procesos\n",
        "    global_result = None\n",
        "    if rank == 0:\n",
        "        global_result = np.empty((altura - k_altura + 1, ancho - k_ancho + 1), dtype=np.float64)\n",
        "\n",
        "    comm.Gather(local_result, global_result, root=0)\n",
        "\n",
        "    return global_result\n",
        "\n",
        "# Ejemplo de uso\n",
        "imagen = np.random.rand(100, 100)\n",
        "kernel = np.random.rand(3, 3)\n",
        "\n",
        "resultado_paralelo = parallel_convolution(imagen, kernel)\n",
        "\n",
        "if MPI.COMM_WORLD.Get_rank() == 0:\n",
        "    print(\"Resultado paralelo:\")\n",
        "    print(resultado_paralelo)\n",
        "\n",
        "\"\"\"\n"
      ],
      "metadata": {
        "id": "SQRVTt341o7V"
      },
      "execution_count": null,
      "outputs": []
    },
    {
      "cell_type": "code",
      "source": [
        "nombre_archivo = \"mpi4py.py\"\n",
        "\n",
        "# Escribir el código en el archivo\n",
        "with open(nombre_archivo, \"w\") as archivo:\n",
        "    archivo.write(codigo_mpi4py)"
      ],
      "metadata": {
        "id": "kDwbP08K100q"
      },
      "execution_count": null,
      "outputs": []
    },
    {
      "cell_type": "code",
      "source": [
        "!mpiexec --allow-run-as-root --oversubscribe -n 5 python mpi4py.py\n"
      ],
      "metadata": {
        "colab": {
          "base_uri": "https://localhost:8080/"
        },
        "id": "9wROJCt92FES",
        "outputId": "22c91168-04db-4998-cce6-ec8377156d9d"
      },
      "execution_count": null,
      "outputs": [
        {
          "output_type": "stream",
          "name": "stdout",
          "text": [
            "Traceback (most recent call last):\n",
            "  File \"/content/mpi4py.py\", line 4, in <module>\n",
            "    from mpi4py import MPI\n",
            "  File \"/content/mpi4py.py\", line 4, in <module>\n",
            "    from mpi4py import MPI\n",
            "ImportError: cannot import name 'MPI' from partially initialized module 'mpi4py' (most likely due to a circular import) (/content/mpi4py.py)\n",
            "Traceback (most recent call last):\n",
            "  File \"/content/mpi4py.py\", line 4, in <module>\n",
            "    from mpi4py import MPI\n",
            "  File \"/content/mpi4py.py\", line 4, in <module>\n",
            "    from mpi4py import MPI\n",
            "ImportError: cannot import name 'MPI' from partially initialized module 'mpi4py' (most likely due to a circular import) (/content/mpi4py.py)\n",
            "Traceback (most recent call last):\n",
            "  File \"/content/mpi4py.py\", line 4, in <module>\n",
            "    from mpi4py import MPI\n",
            "  File \"/content/mpi4py.py\", line 4, in <module>\n",
            "    from mpi4py import MPI\n",
            "ImportError: cannot import name 'MPI' from partially initialized module 'mpi4py' (most likely due to a circular import) (/content/mpi4py.py)\n",
            "--------------------------------------------------------------------------\n",
            "Primary job  terminated normally, but 1 process returned\n",
            "a non-zero exit code. Per user-direction, the job has been aborted.\n",
            "--------------------------------------------------------------------------\n",
            "--------------------------------------------------------------------------\n",
            "mpiexec detected that one or more processes exited with non-zero status, thus causing\n",
            "the job to be terminated. The first process to do so was:\n",
            "\n",
            "  Process name: [[30779,1],4]\n",
            "  Exit code:    1\n",
            "--------------------------------------------------------------------------\n"
          ]
        }
      ]
    },
    {
      "cell_type": "markdown",
      "source": [
        "CUDA"
      ],
      "metadata": {
        "id": "iSeFEG5k3lRB"
      }
    },
    {
      "cell_type": "code",
      "source": [
        "!pip install pycuda\n"
      ],
      "metadata": {
        "colab": {
          "base_uri": "https://localhost:8080/"
        },
        "id": "XRL1oX6_5e4w",
        "outputId": "84f2854e-8d1c-451c-e3b2-7f770f6a017a"
      },
      "execution_count": null,
      "outputs": [
        {
          "output_type": "stream",
          "name": "stdout",
          "text": [
            "Collecting pycuda\n",
            "  Downloading pycuda-2023.1.tar.gz (1.7 MB)\n",
            "\u001b[2K     \u001b[90m━━━━━━━━━━━━━━━━━━━━━━━━━━━━━━━━━━━━━━━━\u001b[0m \u001b[32m1.7/1.7 MB\u001b[0m \u001b[31m18.5 MB/s\u001b[0m eta \u001b[36m0:00:00\u001b[0m\n",
            "\u001b[?25h  Installing build dependencies ... \u001b[?25l\u001b[?25hdone\n",
            "  Getting requirements to build wheel ... \u001b[?25l\u001b[?25hdone\n",
            "  Preparing metadata (pyproject.toml) ... \u001b[?25l\u001b[?25hdone\n",
            "Collecting pytools>=2011.2 (from pycuda)\n",
            "  Downloading pytools-2023.1.1-py2.py3-none-any.whl (70 kB)\n",
            "\u001b[2K     \u001b[90m━━━━━━━━━━━━━━━━━━━━━━━━━━━━━━━━━━━━━━━━\u001b[0m \u001b[32m70.6/70.6 kB\u001b[0m \u001b[31m9.6 MB/s\u001b[0m eta \u001b[36m0:00:00\u001b[0m\n",
            "\u001b[?25hRequirement already satisfied: appdirs>=1.4.0 in /usr/local/lib/python3.10/dist-packages (from pycuda) (1.4.4)\n",
            "Collecting mako (from pycuda)\n",
            "  Downloading Mako-1.3.0-py3-none-any.whl (78 kB)\n",
            "\u001b[2K     \u001b[90m━━━━━━━━━━━━━━━━━━━━━━━━━━━━━━━━━━━━━━━━\u001b[0m \u001b[32m78.6/78.6 kB\u001b[0m \u001b[31m10.1 MB/s\u001b[0m eta \u001b[36m0:00:00\u001b[0m\n",
            "\u001b[?25hRequirement already satisfied: platformdirs>=2.2.0 in /usr/local/lib/python3.10/dist-packages (from pytools>=2011.2->pycuda) (4.0.0)\n",
            "Requirement already satisfied: typing-extensions>=4.0 in /usr/local/lib/python3.10/dist-packages (from pytools>=2011.2->pycuda) (4.5.0)\n",
            "Requirement already satisfied: MarkupSafe>=0.9.2 in /usr/local/lib/python3.10/dist-packages (from mako->pycuda) (2.1.3)\n",
            "Building wheels for collected packages: pycuda\n",
            "  Building wheel for pycuda (pyproject.toml) ... \u001b[?25l\u001b[?25hdone\n",
            "  Created wheel for pycuda: filename=pycuda-2023.1-cp310-cp310-linux_x86_64.whl size=661263 sha256=4541d50253671844865c13d4e45ca9b21ce65923649173fc04a5453964171a61\n",
            "  Stored in directory: /root/.cache/pip/wheels/46/65/06/b997165edd2fd9690c3497ca54ea4485b571d7bd959c21c6c4\n",
            "Successfully built pycuda\n",
            "Installing collected packages: pytools, mako, pycuda\n",
            "Successfully installed mako-1.3.0 pycuda-2023.1 pytools-2023.1.1\n"
          ]
        }
      ]
    },
    {
      "cell_type": "code",
      "source": [
        "import numpy as np\n",
        "import pycuda.autoinit\n",
        "import pycuda.driver as cuda\n",
        "from pycuda.compiler import SourceModule\n",
        "\n",
        "def convolucion_gpu_paralela(imagen, kernel):\n",
        "    # Definir el código del kernel de CUDA\n",
        "    kernel_code = '''\n",
        "    __global__ void convolucion(float *imagen, float *kernel, float *resultado, int altura, int ancho, int k_altura, int k_ancho) {\n",
        "        int tx = threadIdx.x + blockIdx.x * blockDim.x;\n",
        "        int ty = threadIdx.y + blockIdx.y * blockDim.y;\n",
        "\n",
        "        if (tx < ancho - k_ancho + 1 && ty < altura - k_altura + 1) {\n",
        "            float sum = 0.0;\n",
        "            for (int i = 0; i < k_altura; ++i) {\n",
        "                for (int j = 0; j < k_ancho; ++j) {\n",
        "                    sum += imagen[(ty + i) * ancho + (tx + j)] * kernel[i * k_ancho + j];\n",
        "                }\n",
        "            }\n",
        "            resultado[ty * (ancho - k_ancho + 1) + tx] = sum;\n",
        "        }\n",
        "    }\n",
        "    '''\n",
        "\n",
        "    # Compilar el código del kernel\n",
        "    mod = SourceModule(kernel_code)\n",
        "    convolucion = mod.get_function(\"convolucion\")\n",
        "\n",
        "    # Convertir datos a formato adecuado\n",
        "    imagen_gpu = cuda.to_device(np.float32(imagen))\n",
        "    kernel_gpu = cuda.to_device(np.float32(kernel))\n",
        "    resultado_gpu = cuda.mem_alloc(imagen.nbytes)\n",
        "\n",
        "    # Obtener las dimensiones de la imagen\n",
        "    altura, ancho = imagen.shape\n",
        "    k_altura, k_ancho = kernel.shape\n",
        "\n",
        "    # Lanzar el kernel\n",
        "    dim_block = (16, 16, 1)\n",
        "    dim_grid = ((ancho - k_ancho + dim_block[0] - 1) // dim_block[0], (altura - k_altura + dim_block[1] - 1) // dim_block[1])\n",
        "    convolucion(imagen_gpu, kernel_gpu, resultado_gpu, np.int32(altura), np.int32(ancho), np.int32(k_altura), np.int32(k_ancho), block=dim_block, grid=dim_grid)\n",
        "\n",
        "    # Copiar el resultado de vuelta al host\n",
        "    resultado = np.empty_like(imagen)\n",
        "    cuda.memcpy_dtoh(resultado, resultado_gpu)\n",
        "    return resultado\n",
        "\n",
        "# Cargar la imagen como una matriz de NumPy\n",
        "imagen = np.array([\n",
        "    [0, 0, 0, 0, 0],\n",
        "    [0, 1, 2, 1, 0],\n",
        "    [0, 2, 3, 2, 0],\n",
        "    [0, 1, 2, 1, 0],\n",
        "    [0, 0, 0, 0, 0]\n",
        "], dtype=np.float32)\n",
        "\n",
        "# Definir el kernel como una matriz de NumPy\n",
        "kernel = np.array([\n",
        "    [0, -1, 0],\n",
        "    [-1, 5, -1],\n",
        "    [0, -1, 0]\n",
        "], dtype=np.float32)\n",
        "\n",
        "# Aplicar la convolución utilizando PyCUDA en paralelo\n",
        "resultado_paralelo = convolucion_gpu_paralela(imagen, kernel)\n",
        "\n",
        "# Visualizar la imagen original y la filtrada\n",
        "print(\"Original:\")\n",
        "print(imagen)\n",
        "\n",
        "print(\"\\nFiltrada (Paralela):\")\n",
        "print(resultado_paralelo)\n"
      ],
      "metadata": {
        "colab": {
          "base_uri": "https://localhost:8080/",
          "height": 384
        },
        "id": "uk8Iitdl5fSX",
        "outputId": "ab8c8816-ed51-4d34-f0b7-915eef1eff1a"
      },
      "execution_count": null,
      "outputs": [
        {
          "output_type": "error",
          "ename": "ModuleNotFoundError",
          "evalue": "ignored",
          "traceback": [
            "\u001b[0;31m---------------------------------------------------------------------------\u001b[0m",
            "\u001b[0;31mModuleNotFoundError\u001b[0m                       Traceback (most recent call last)",
            "\u001b[0;32m<ipython-input-1-221bba063e60>\u001b[0m in \u001b[0;36m<cell line: 2>\u001b[0;34m()\u001b[0m\n\u001b[1;32m      1\u001b[0m \u001b[0;32mimport\u001b[0m \u001b[0mnumpy\u001b[0m \u001b[0;32mas\u001b[0m \u001b[0mnp\u001b[0m\u001b[0;34m\u001b[0m\u001b[0;34m\u001b[0m\u001b[0m\n\u001b[0;32m----> 2\u001b[0;31m \u001b[0;32mimport\u001b[0m \u001b[0mpycuda\u001b[0m\u001b[0;34m.\u001b[0m\u001b[0mautoinit\u001b[0m\u001b[0;34m\u001b[0m\u001b[0;34m\u001b[0m\u001b[0m\n\u001b[0m\u001b[1;32m      3\u001b[0m \u001b[0;32mimport\u001b[0m \u001b[0mpycuda\u001b[0m\u001b[0;34m.\u001b[0m\u001b[0mdriver\u001b[0m \u001b[0;32mas\u001b[0m \u001b[0mcuda\u001b[0m\u001b[0;34m\u001b[0m\u001b[0;34m\u001b[0m\u001b[0m\n\u001b[1;32m      4\u001b[0m \u001b[0;32mfrom\u001b[0m \u001b[0mpycuda\u001b[0m\u001b[0;34m.\u001b[0m\u001b[0mcompiler\u001b[0m \u001b[0;32mimport\u001b[0m \u001b[0mSourceModule\u001b[0m\u001b[0;34m\u001b[0m\u001b[0;34m\u001b[0m\u001b[0m\n\u001b[1;32m      5\u001b[0m \u001b[0;34m\u001b[0m\u001b[0m\n",
            "\u001b[0;31mModuleNotFoundError\u001b[0m: No module named 'pycuda'",
            "",
            "\u001b[0;31m---------------------------------------------------------------------------\u001b[0;32m\nNOTE: If your import is failing due to a missing package, you can\nmanually install dependencies using either !pip or !apt.\n\nTo view examples of installing some common dependencies, click the\n\"Open Examples\" button below.\n\u001b[0;31m---------------------------------------------------------------------------\u001b[0m\n"
          ],
          "errorDetails": {
            "actions": [
              {
                "action": "open_url",
                "actionText": "Open Examples",
                "url": "/notebooks/snippets/importing_libraries.ipynb"
              }
            ]
          }
        }
      ]
    }
  ]
}